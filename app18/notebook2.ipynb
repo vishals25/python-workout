{
 "cells": [
  {
   "cell_type": "markdown",
   "metadata": {},
   "source": [
    "# Content-Based Filtering"
   ]
  },
  {
   "cell_type": "code",
   "execution_count": 1,
   "metadata": {},
   "outputs": [],
   "source": [
    "import pandas\n",
    "\n",
    "movies=pandas.read_csv('data/movies.csv')\n",
    "\n",
    "# movies"
   ]
  },
  {
   "cell_type": "code",
   "execution_count": 2,
   "metadata": {},
   "outputs": [],
   "source": [
    "from sklearn.feature_extraction.text import TfidfVectorizer"
   ]
  },
  {
   "cell_type": "code",
   "execution_count": 3,
   "metadata": {},
   "outputs": [],
   "source": [
    "tfidf=TfidfVectorizer(stop_words=\"english\")\n",
    "\n",
    "movies['overview']=movies['overview'].fillna(\"\")\n",
    "\n",
    "tfidf_matrix=tfidf.fit_transform(movies['overview'])\n",
    "\n",
    "# pandas.DataFrame(tfidf_matrix.toarray(),columns=tfidf.get_feature_names_out())"
   ]
  },
  {
   "cell_type": "markdown",
   "metadata": {},
   "source": [
    "## similarity Matrix\n"
   ]
  },
  {
   "cell_type": "code",
   "execution_count": null,
   "metadata": {},
   "outputs": [],
   "source": [
    "from sklearn.metrics.pairwise import linear_kernel\n",
    "\n",
    "similarity_matrix=linear_kernel(tfidf_matrix,tfidf_matrix)\n",
    "\n",
    "pandas.DataFrame(similarity_matrix)"
   ]
  },
  {
   "cell_type": "markdown",
   "metadata": {},
   "source": [
    "### Find the Most similar Movies to a Certain movie"
   ]
  },
  {
   "cell_type": "code",
   "execution_count": 5,
   "metadata": {},
   "outputs": [],
   "source": [
    "# movie_title='John Carter'\n",
    "# nr_movies=3\n",
    "\n",
    "# idx=movies.loc[movies['title']==movie_title].index[0]\n",
    "\n",
    "# scores=list(enumerate(similarity_matrix[idx]))\n",
    "\n",
    "# scores=sorted(scores,key=lambda x:x[1],reverse=True)\n",
    "\n",
    "# print(scores)"
   ]
  },
  {
   "cell_type": "code",
   "execution_count": 6,
   "metadata": {},
   "outputs": [],
   "source": [
    "# movies_idx=[tpl[0] for tpl in scores[1:nr_movies+1] ]\n",
    "# print(movies_idx)"
   ]
  },
  {
   "cell_type": "code",
   "execution_count": 7,
   "metadata": {},
   "outputs": [],
   "source": [
    "# list(movies['title'].iloc[movies_idx])"
   ]
  },
  {
   "cell_type": "code",
   "execution_count": 8,
   "metadata": {},
   "outputs": [],
   "source": [
    "def similar_movies(movie_title,nr_movies):\n",
    "\n",
    "    idx=movies.loc[movies['title']==movie_title].index[0]\n",
    "    scores=list(enumerate(similarity_matrix[idx]))\n",
    "    scores=sorted(scores,key=lambda x:x[1],reverse=True)\n",
    "    movies_idx=[tpl[0] for tpl in scores[1:nr_movies+1] ]\n",
    "    return list(movies['title'].iloc[movies_idx])\n",
    "    "
   ]
  },
  {
   "cell_type": "code",
   "execution_count": 9,
   "metadata": {},
   "outputs": [
    {
     "name": "stdout",
     "output_type": "stream",
     "text": [
      "['Kung Fu Panda 2', 'My Big Fat Greek Wedding 2', 'Once Upon a Time in the West']\n"
     ]
    }
   ],
   "source": [
    "print(similar_movies('Kung Fu Panda 3',3))"
   ]
  }
 ],
 "metadata": {
  "kernelspec": {
   "display_name": "Python 3",
   "language": "python",
   "name": "python3"
  },
  "language_info": {
   "codemirror_mode": {
    "name": "ipython",
    "version": 3
   },
   "file_extension": ".py",
   "mimetype": "text/x-python",
   "name": "python",
   "nbconvert_exporter": "python",
   "pygments_lexer": "ipython3",
   "version": "3.12.4"
  }
 },
 "nbformat": 4,
 "nbformat_minor": 2
}
