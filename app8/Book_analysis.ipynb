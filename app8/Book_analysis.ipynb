{
 "cells": [
  {
   "cell_type": "code",
   "execution_count": 1,
   "metadata": {},
   "outputs": [],
   "source": [
    "with open(\"miracle_in_the_andes.txt\",\"r\", encoding=\"utf-8\") as file:\n",
    "    book=file.readlines()"
   ]
  },
  {
   "cell_type": "code",
   "execution_count": 2,
   "metadata": {},
   "outputs": [],
   "source": [
    "book=str(book)"
   ]
  },
  {
   "cell_type": "markdown",
   "metadata": {},
   "source": [
    "### To find number of chapters"
   ]
  },
  {
   "cell_type": "code",
   "execution_count": 3,
   "metadata": {},
   "outputs": [
    {
     "data": {
      "text/plain": [
       "11"
      ]
     },
     "execution_count": 3,
     "metadata": {},
     "output_type": "execute_result"
    }
   ],
   "source": [
    "book.count(\"Chapter\")"
   ]
  },
  {
   "cell_type": "code",
   "execution_count": 53,
   "metadata": {},
   "outputs": [],
   "source": [
    "import re"
   ]
  },
  {
   "cell_type": "code",
   "execution_count": 5,
   "metadata": {},
   "outputs": [
    {
     "data": {
      "text/plain": [
       "10"
      ]
     },
     "execution_count": 5,
     "metadata": {},
     "output_type": "execute_result"
    }
   ],
   "source": [
    "pattern=re.compile(\"Chapter [0-9]*\")\n",
    "len(re.findall(pattern,book))"
   ]
  },
  {
   "cell_type": "code",
   "execution_count": 6,
   "metadata": {},
   "outputs": [
    {
     "data": {
      "text/plain": [
       "67"
      ]
     },
     "execution_count": 6,
     "metadata": {},
     "output_type": "execute_result"
    }
   ],
   "source": [
    "pattern=re.compile(\"[A-Z]{1}[^.]*[^a-zA-Z]+love[^a-zA-Z]+[^.]*.\")\n",
    "len(re.findall(pattern,book))"
   ]
  },
  {
   "cell_type": "code",
   "execution_count": 27,
   "metadata": {},
   "outputs": [
    {
     "data": {
      "text/plain": [
       "89153"
      ]
     },
     "execution_count": 27,
     "metadata": {},
     "output_type": "execute_result"
    }
   ],
   "source": [
    "pattern=re.compile(\"[a-zA-Z]+\")\n",
    "finds=re.findall(pattern,book.lower())\n",
    "len(finds)"
   ]
  },
  {
   "cell_type": "code",
   "execution_count": 28,
   "metadata": {},
   "outputs": [],
   "source": [
    "d={}\n",
    "\n",
    "for word in finds:\n",
    "    if word in d:\n",
    "        d[word]+=1\n",
    "    else:\n",
    "        d[word]=1"
   ]
  },
  {
   "cell_type": "code",
   "execution_count": 36,
   "metadata": {},
   "outputs": [
    {
     "data": {
      "text/plain": [
       "[(5346, 'the'),\n",
       " (2795, 'and'),\n",
       " (2729, 'i'),\n",
       " (2400, 'to'),\n",
       " (2372, 'n'),\n",
       " (2060, 'of'),\n",
       " (1566, 'a'),\n",
       " (1430, 'was'),\n",
       " (1419, 'in'),\n",
       " (1226, 'we')]"
      ]
     },
     "execution_count": 36,
     "metadata": {},
     "output_type": "execute_result"
    }
   ],
   "source": [
    "d_list=[(value,key) for (key,value) in d.items()]\n",
    "\n",
    "d_list.sort(reverse=True)\n",
    "\n",
    "d_list[:10]"
   ]
  },
  {
   "cell_type": "code",
   "execution_count": 13,
   "metadata": {},
   "outputs": [],
   "source": [
    "import nltk"
   ]
  },
  {
   "cell_type": "code",
   "execution_count": 17,
   "metadata": {},
   "outputs": [],
   "source": [
    "from nltk.corpus import stopwords"
   ]
  },
  {
   "cell_type": "code",
   "execution_count": 18,
   "metadata": {},
   "outputs": [],
   "source": [
    "english_stopwords=stopwords.words(\"english\")"
   ]
  },
  {
   "cell_type": "code",
   "execution_count": null,
   "metadata": {},
   "outputs": [],
   "source": [
    "english_stopwords"
   ]
  },
  {
   "cell_type": "code",
   "execution_count": 33,
   "metadata": {},
   "outputs": [],
   "source": [
    "filtered_words=[]\n",
    "for i,j in d_list :\n",
    "    if j not in english_stopwords and len(j)>1:\n",
    "        filtered_words.append((i,j))"
   ]
  },
  {
   "cell_type": "code",
   "execution_count": 35,
   "metadata": {},
   "outputs": [
    {
     "data": {
      "text/plain": [
       "[(575, 'would'),\n",
       " (519, 'us'),\n",
       " (292, 'said'),\n",
       " (284, 'roberto'),\n",
       " (252, 'could'),\n",
       " (249, 'one'),\n",
       " (227, 'snow'),\n",
       " (183, 'mountain'),\n",
       " (182, 'time'),\n",
       " (165, 'like')]"
      ]
     },
     "execution_count": 35,
     "metadata": {},
     "output_type": "execute_result"
    }
   ],
   "source": [
    "filtered_words[:10]"
   ]
  },
  {
   "cell_type": "code",
   "execution_count": 38,
   "metadata": {},
   "outputs": [],
   "source": [
    "from nltk.sentiment import SentimentIntensityAnalyzer"
   ]
  },
  {
   "cell_type": "code",
   "execution_count": 40,
   "metadata": {},
   "outputs": [],
   "source": [
    "analyser=SentimentIntensityAnalyzer()\n"
   ]
  },
  {
   "cell_type": "code",
   "execution_count": 68,
   "metadata": {},
   "outputs": [
    {
     "name": "stdout",
     "output_type": "stream",
     "text": [
      "{'neg': 0.112, 'neu': 0.766, 'pos': 0.122, 'compound': 1.0}\n"
     ]
    }
   ],
   "source": [
    "scores=analyser.polarity_scores(book)\n",
    "print(scores)"
   ]
  },
  {
   "cell_type": "code",
   "execution_count": 52,
   "metadata": {},
   "outputs": [
    {
     "name": "stdout",
     "output_type": "stream",
     "text": [
      "positive\n"
     ]
    }
   ],
   "source": [
    "if scores['pos']>scores['neg']:\n",
    "    print('positive')\n",
    "else:\n",
    "    print('negative')"
   ]
  },
  {
   "cell_type": "code",
   "execution_count": 56,
   "metadata": {},
   "outputs": [],
   "source": [
    "pattern=re.compile(\"Chapter [0-9]+\")"
   ]
  },
  {
   "cell_type": "code",
   "execution_count": 64,
   "metadata": {},
   "outputs": [
    {
     "name": "stdout",
     "output_type": "stream",
     "text": [
      "\\n', '\\n', 'Before\\n', '\\n', '\\n', 'IT WAS FRIDAY, the thirteenth of October. We joked about that—flying over the Andes on such an unlucky day, but young men make those kinds of jokes so easily. Our flight had originated one day earlier in Montevideo, my hometown, its destination Santiago, Chile. It was a chartered flight on a Fairchild twin-engine turboprop carrying my rugby team—the Old Christians Rugby Club—to play an exhibition match against a top Chilean squad. There were forty-five people aboard, including four crew members—pilot, copilot, mechanic, and steward. Most of the passengers were my teammates, but we were also accompanied by friends, family members, and other supporters of the team, including my mother, Eugenia, and my younger sister, Susy, who were sitting across the aisle and one row in front of me. Our original itinerary was to fly nonstop to Santiago, a trip of about three and a half hours. But after just a few hours of flying, reports of bad weather in the mountains ahead forced the Fairchild’s pilot, Julio Ferradas, to put the plane down in the old Spanish colonial town of Mendoza, which lies just east of the Andean foothills.\\n', '\\n', 'We landed in Mendoza at lunchtime with hopes that we would be back in the air in a few hours. But the weather reports were not encouraging, and it was soon clear that we would have to stay the night. None of us liked the idea of losing a day from our trip, but Mendoza was a charming place, so we decided to make the best of our time there. Some of the guys relaxed in sidewalk cafés along Mendoza’s broad, tree-lined boulevards or went sightseeing in the city’s historic neighborhoods. I spent the afternoon with some friends watching an auto race at a track outside of town. In the evening we went to a movie, while some of the others went dancing with some Argentinean girls they had met. My mother and Susy spent their time exploring Mendoza’s quaint gift shops, buying presents for friends in Chile and souvenirs for the people at home. My mother was especially pleased to find a pair of red baby shoes in a small boutique, which she thought would make the perfect gift for my sister Graciela’s new baby boy.\\n', '\\n', 'Most of us slept late the next morning, and when we woke we were anxious to leave, but there was still no word about our departure, so we all went our separate ways to see a little more of Mendoza. Finally we received word to gather at the airport at 1:00 p.m. sharp, but we arrived only to discover that Ferradas and his copilot, Dante Lagurara, had not yet decided whether or not we would fly. We reacted to this news with frustration and anger, but none of us understood the difficult decision confronting the pilots. The weather reports that morning warned of some turbulence along our flight path, but after speaking with the pilot of a cargo plane that had just flown in from Santiago, Ferradas was confident the Fairchild could fly safely above the weather. The more troubling problem was the time of day. It was already early afternoon. By the time the passengers were boarded and all the necessary arrangements were made with airport officials, it would be well past two o’clock. In the afternoon, warm air rises from the Argentine foothills and meets the frigid air above the snowline to create treacherous instability in the atmosphere above the mountains. Our pilots knew that this was the most dangerous time to fly across the Andes. There was no way to predict where these swirling currents might strike, and if they got hold of us, our plane would be tossed around like a toy.\\n', '\\n', 'On the other hand, we couldn’t stay put in Mendoza. Our aircraft was a Fairchild F-227 that we had leased from the Uruguayan air force. The laws of Argentina forbade a foreign military aircraft to stay on Argentine soil longer than twenty-four hours. Since our time was almost up, Ferradas and Lagurara had to make a fast decision: should they take off for Santiago and brave the afternoon skies, or fly the Fairchild back to Montevideo and put an end to our vacation?\\n', '\\n', 'As the pilots pondered the options, our impatience grew. We had already lost a day of our Chilean trip, and we were frustrated by the thought of losing more. We were bold young men, fearless and full of ourselves, and it angered us that our vacation was slipping away because of what we regarded as the timidity of our pilots. We did not hide these feelings. When we saw the pilots at the airport, we jeered and whistled at them. We teased them and questioned their competence. “We hired you to take us to Chile,” someone shouted, “and that’s what we want you to do!” There is no way to know whether or not our behavior influenced their decision—it did seem to unsettle them—but finally, after one last consultation with Lagurara, Ferradas glanced around at the crowd waiting restlessly for an answer, and announced that the flight to Santiago would continue. We greeted this news with a rowdy cheer.\\n', '\\n', 'The Fairchild finally departed from Mendoza Airport at eighteen minutes after two o’clock, local time. As we climbed, the plane banked steeply into a left turn and soon we were flying south, with the Argentine Andes rising to our right on the western horizon. Through the windows on the right side of the fuselage, I gazed at the mountains, which thundered up from the dry plateau below us like a black mirage, so bleak and majestic, so astonishingly vast and huge, that the simple sight of them made my heart race. Rooted in massive swells of bedrock with colossal bases that spread for miles, their black ridges soared up from the flatlands, one peak crowding the next, so that they seemed to form a colossal fortress wall. I was not a poetically inclined young man, but there seemed to be a warning in the great authority with which these mountains held their ground, and it was impossible not to think of them as living things, with minds and hearts and an old brooding awareness. No wonder the ancients thought of these mountains as holy places, as the doorstep to heaven, and as the dwelling place of the gods.\\n', '\\n', 'Uruguay is a low-lying country, and like most of my friends on the plane, my knowledge of the Andes, or of any mountains at all, was limited to what I had read in books. In school we learned that the Andes range was the most extensive mountain system in the world, running the length of South America from Venezuela in the north to the southern tip of the continent in Tierra del Fuego. I also knew that the Andes are the second-highest mountain range on the planet; in terms of average elevation, only the Himalayas are higher.\\n', '\\n', 'I had heard people refer to the Andes as one of the earth’s great geological wonders, and the view from the airplane gave me a visceral understanding of what that meant. To the north, south, and west, the mountains sprawled as far as the eye could see, and even though they were many miles away, their height and mass made them seem impassable. In fact, as far as we were concerned, they were. Our destination, Santiago, lies almost exactly due west of Mendoza, but the region of the Andes that separates the two cities is one of the highest sections of the entire chain, and home to some of the tallest mountains in the world. Somewhere out there, for example, was Aconcagua, the highest mountain in the Western Hemisphere and one of the seven tallest on the planet. With a summit of 22,831 feet, it stands just 6,200 feet shy of Everest, and it has giants for neighbors, including the 22,000-foot Mount Mercedario, and Mount Tupongato, which stands 21,555 feet tall. Surrounding these behemoths are other great peaks with elevations of between 16,000 and 20,000 feet, which no one in those wild reaches had ever bothered to name.\\n', '\\n', 'With such towering summits rising along the way, there was no chance that the Fairchild, with its maximum cruising altitude of 22,500 feet, could fly a direct east-west route to Santiago. Instead, the pilots had charted a course that would take us about one hundred miles south of Mendoza to Planchón Pass, a narrow corridor through the mountains with ridges low enough for the plane to clear. We would fly south along the eastern foothills of the Andes with the mountains always on our right, until we reached the pass. Then we’d turn west and weave our way through the mountains. When we had cleared the mountains on the Chilean side, we would turn right and fly north to Santiago. The flight should take about an hour and a half. We would be in Santiago before dark.\\n', '\\n', 'On this first leg of the trip, the skies were calm, and in less than an hour we had reached the vicinity of Planchón Pass. I didn’t know the name of the pass, of course, or any of the flight details. But I couldn’t help noticing that after flying for miles with the mountains always off in the western distance, we had banked to the west and were now flying directly into the heart of the cordillera. I was sitting in a window seat on the left side of the plane, and as I watched, the flat, featureless landscape below seemed to leap up from the earth, first to form rugged foothills, then heaving and buckling up into the awesome convolutions of true mountains. Shark-finned ridges raised themselves up like soaring black sails. Menacing peaks pushed up like gigantic spearheads or the broken blades of hatchets. Narrow glacial valleys gashed the steep slopes, forming rows of deep, winding, snow-packed corridors that stacked and folded one upon the other to create a wild, endless maze of ice and rock. In the Southern Hemisphere, winter had given way to early spring, but in the Andes, temperatures still routinely dipped to 35 degrees below zero Fahrenheit, and the air was as dry as a desert. I knew that avalanches, blizzards, and killing gale-force winds were common in these mountains, and that the previous winter had been one of the most severe on record, with snowfalls, in some places, of several hundred feet. I saw no color at all in the mountains, just muted patches of black and gray. There was no softness, no life, only rock and snow and ice and as I looked down into all that rugged wildness, I had to laugh at the arrogance of anyone who had ever thought that human beings have conquered the earth.\\n', '\\n', 'Watching out the window, I noticed that wisps of fog were gathering, then I felt a hand on my shoulder.\\n', '\\n', '“Switch seats with me, Nando. I want to look at the mountains.”\\n', '\\n', 'It was my friend Panchito, who was sitting in the aisle seat beside me. I nodded and rose from my seat. When I stood to change places someone yelled, “Think fast, Nando!” and I turned just in time to catch a rugby ball someone had tossed from the rear of the cabin. I passed the ball forward, and then sank into my seat. All around us there was laughing and talking, people were moving from seat to seat, visiting friends up and down the aisle. Some friends, including my oldest amigo, Guido Magri, were in the back of the plane playing cards with some crew members, including the flight steward, but when the ball began bouncing around the cabin, the steward stepped forward and tried to calm things down. “Put the ball away,” he shouted. “Settle down, and please take your seats!” But we were young rugby players traveling with our friends, and we did not want to settle down. Our team, the Old Christians from Montevideo, was one of the best rugby teams in Uruguay, and we took our regular matches seriously. But in Chile we would be playing an exhibition match only, so this trip was really a holiday for us, and on the plane there was the feeling that the holiday had already begun.\\n', '\\n', 'It was a fine thing to be traveling with my friends, these friends especially. We had been through so much together—all the years of learning and training, the heartbreaking losses, the hard-fought wins. We had grown up as teammates, drawing from each other’s strengths, learning to trust one another when the pressure was on. But the game of rugby had not only shaped our friendships, it had shaped our characters, and brought us together as brothers.\\n', '\\n', 'Many of us on the Old Christians had known each other for more than ten years, since our days as schoolboy ruggers playing under the guidance of the Irish Christian Brothers at the Stella Maris School. The Christian Brothers had come to Uruguay from Ireland in the early 1950s, at the invitation of a group of Catholic parents who wanted them to found a private Catholic school in Montevideo. Five Irish Brothers answered the call, and in 1955 they created the Stella Maris College, a private school for boys between the ages of nine and sixteen, located in the Carrasco neighborhood, where most of the students lived.\\n', '\\n', 'For the Christian Brothers, the first goal of a Catholic education was to build character, not intellect, and their teaching methods stressed discipline, piety, selflessness, and respect. To promote these values outside the classroom, the Brothers discouraged our natural South American passion for soccer—a game that, in their view, fostered selfishness and egotism—and steered us toward the rougher, earthier game of rugby. For generations, rugby had been an Irish passion, but it was virtually unknown in our country. At first the game seemed strange to us—so brutal and painful to play, so much pushing and shoving and so little of soccer’s wide-open flair. But the Christian Brothers firmly believed that the qualities required to master the sport were the same characteristics one needed to live a decent Catholic life—humility, tenacity, self-discipline, and devotion to others—and they were determined that we would play the game and play it well. It did not take us long to learn that once the Christian Brothers set their minds to a purpose, there was little that could sway them. So we set aside our soccer balls and acquainted ourselves with the fat, pointed pigskin used in rugby.\\n', '\\n', 'In long, tough practices on the fields behind the school, the Brothers started from scratch, drilling us in all the rugged intricacies of the game—mucks and rauls, scrumdowns and lineouts, how to kick and pass and tackle. We learned that rugby players wore no pads or helmets, but still we were expected to play aggressively and with great physical courage. But rugby was more than a game of brute strength; it required sound strategy, quick thinking, and agility. Most of all the game demanded that teammates develop an unshakeable sense of trust. They explained that when one of our teammates falls or is knocked to the ground, he “becomes grass.” This was their way of saying that a downed player can be stomped on and trampled by the opposition as if he were part of the turf. One of the first things they taught us was how to behave when a teammate becomes grass. “You must become his protector. You must sacrifice yourself to shield him. He must know he can count on you.”\\n', '\\n', 'To the Christian Brothers, rugby was more than a game, it was sport raised to the level of a moral discipline. At its heart was the ironclad belief that no other sport taught so devoutly the importance of striving, suffering, and sacrificing in the pursuit of a common goal. They were so passionate on this point that we had no choice but to believe them, and as we grew to understand the game more deeply, we saw for ourselves that the Brothers were right.\\n', '\\n', 'In simplest terms, the object of rugby is to gain control of the ball—usually through the combined use of cunning, speed, and brute force—and then, by passing it deftly from one sprinting teammate to another, advance the ball across the the goal or “try line” for a score. Rugby can be a game of dazzling speed and agility, a game of pinpoint passes and brilliant evasive maneuvers. But for me the essence of the game can only be found in the brutal, controlled melee known as the scrum, the signature formation of rugby. In a scrummage, each team forms a tight huddle, three rows deep, with the crouching players shoulder to shoulder and their arms interlocked to form a tightly woven human wedge. The two scrums square off, and the first row of one scrum butts shoulders with the first row of the opposition to form a rough closed circle. At the official’s signal, the ball is rolled into this circle and each team’s scrum tries to push the other far enough off the ball so that one of its own front-row players can kick it back through the legs of his teammates to the rear of the scrum, where his scrum half is waiting to pluck it free and pass it to a back who will start the attack.\\n', '\\n', 'The play inside the scrum is ferocious—knees knock against temples, elbows rock jaws, shins are constantly bloodied by kicks from heavy cleated shoes. It is raw, hard labor, but everything changes to lightning once the scrum half clears the ball and the attack begins. The first pass might be back to the agile fly half, who will dodge the oncoming defenders, buying time for the players behind him to find open field. Just as he is about to be dragged down, the fly half fires the ball back to the inside center, who sidesteps one tackler but is tripped up by the next, and as he stumbles forward he passes off to the trailing winger. Now the ball moves crisply from one back to the next—flanker to winger to center and back to the winger again, each man slashing, spinning, diving, or bulling his way forward, before tacklers drag them to the ground. Ball carriers will be mauled along the way, rucks will form when the ball falls free, every inch will be a battle, but then one of our men will find an angle, a small window of daylight and, with a final burst of effort, dash past the last defenders and dive across the try line for a score. Just like that, all the plodding grunt work of the scrum has turned to a brilliant dance. And no single man can claim the credit. The try was scored inch by inch, through an accumulation of individual effort, and no matter who finally carried the ball across the try line, the glory belongs to us all.\\n', '\\n', 'My job in the scrum was to line up behind the crouching first row, my head wedged between their hips, my shoulders butting their thighs, and my arms spread over their backsides. When play began, I would surge forward with all my might and try to push the scrum forward. I remember the feeling so well: at first the weight of the opposing scrum seems immense and impossible to budge. Still, you dig at the turf, you endure the stalemate, you refuse to quit. I remember, in moments of extreme exertion, straining forward until my legs were completely extended, with my body low and straight and parallel to the ground, pushing hopelessly against what seemed like a solid stone wall. Sometimes the stalemate seemed to last forever, but if we held our positions and each man did his job, the resistance would soften and, miraculously, the immovable object would slowly begin to budge. The remarkable thing is this: at the very moment of success you cannot isolate your own individual effort from the effort of the entire scrum. You cannot tell where your strength ends and the efforts of the others begin. In a sense, you no longer exist as an individual human being. For a brief moment you forget yourself. You become part of something larger and more powerful than you yourself could be. Your effort and your will vanishes into the collective will of the team, and if this will is unified and focused, the team surges forward and the scrum magically begins to move.\\n', '\\n', 'To me, this is the essence of rugby. No other sport gives you such an intense sense of selflessness and unified purpose. I believe this is why rugby players all over the world feel such a passion for the game and such a feeling of brotherhood. As a young man, of course, I could not put these things into words, but I knew, and my teammates knew, that there was something special about the game, and under the guidance of the Christian Brothers we developed a passionate love for the sport that shaped our friendships and our lives. For eight years we played our hearts out for the Christian Brothers—a brotherhood of young boys with Latin names, playing a game with deep Anglo roots under Uruguay’s sunny skies, and proudly wearing the bright green shamrock on our uniforms. The game became so much a part of our lives, in fact, that when we graduated from Stella Maris at the age of sixteen, many of us could not bear the thought that our playing days were over. Our salvation came in the form of the Old Christians Club, a private rugby team formed in 1965 by previous alumni of the Stella Maris rugby program to give Stella Maris ruggers a chance to continue playing the game after our school years ended.\\n', '\\n', 'When the Christian Brothers first arrived in Uruguay, few people had ever seen a rugby match, but by the late 1960s the game was gaining in popularity, and there were plenty of good teams for the Old Christians to challenge. In 1965 we joined the National Rugby League, and soon we had established ourselves as one of the country’s top teams, winning the national championship in 1968 and 1970. Encouraged by our success, we began to schedule matches in Argentina, and we quickly discovered that we could hold our own with the best teams that country had to offer. In 1971 we traveled to Chile, where we fared well in matches against tough competition, including the Chilean national team. The trip was such a success that it was decided we would return again this year, in 1972. I had been looking forward to the trip for months, and as I glanced around the passenger cabin there was no doubt my teammates felt the same. We had been through so much together. I knew that the friendships I’d made on the rugby team would last a lifetime, and I was happy that so many of my friends were on the phone with me. There was Coco Nicholich, our lock forward, and one of the biggest and strongest players on the team. Enrique Platero, serious and steady, was a prop—one of the burly guys who helped anchor the line in the scrum. Roy Harley was a wing forward, who used his speed to sidestep tacklers and leave them clutching air. Roberto Canessa was a wing, and one of the strongest and toughest players on the squad. Arturo Nogueira was our fly half, a great long passer and the best kicker on the team. You could tell by looking at Antonio Vizintin, with his broad back and thick neck, that he was one of the front line forwards who bore most of the weight in the scrum. Gustavo Zerbino—whose guts and determination I always admired—was a versatile player who manned many positions. And Marcelo Perez del Castillo, another wing forward, was very fast, very brave, a great ball carrier and a ferocious tackler. Marcelo was also our team captain, a leader we would trust with our lives. It was Marcelo’s idea to return to Chile, and he had worked hard to make it all possible; he had leased the plane, hired the pilots, arranged the games in Chile, and created tremendous excitement about the trip.\\n', '\\n', 'There were others—Alexis Hounie, Gastón Costemalle, Daniel Shaw—all of them great players and all of them my friends. But my oldest friend was Guido Magri. He and I had met on my first day at the Stella Maris School—I was eight years old and Guido was one year older—and we had been inseparable ever since. Guido and I grew up together, playing soccer and sharing a love of motorcycles, cars, and auto racing. When I was fifteen we both had mopeds that we had modified in silly ways—removing the mufflers, turn signals, and fenders—and we would ride them to Las Delicias, a famous ice cream parlor in our neighborhood, where we would drool over the girls from the nearby School Sagrado Corazón, hoping to impress them with our souped-up scooters. Guido was a dependable friend, with a good sense of humor and an easy laugh. He was also an outstanding scrum half, as quick and smart as a fox, with good hands and great courage. Under the guidance of the Christian Brothers, both of us grew to love the game of rugby with a consuming passion. As seasons passed we worked hard to improve our skills, and by the time I was fifteen we had each earned a spot on the Stella Maris First XV, the team’s starting lineup. After graduation, both of us went on to join the Old Christians and spent several happy seasons pursuing the high-octane social life of young rugby players. That rowdiness came to an abrupt end for Guido in 1969, when he met and fell in love with the beautiful daughter of a Chilean diplomat. She was now his fiancée, and he was happy to behave himself for her sake.\\n', '\\n', 'After Guido’s engagement I saw less of him, and I began spending more time with my other great friend Panchito Abal. Panchito was a year younger than I, and although he was a graduate of Stella Maris and a former member of the school’s First XV, we had met only a few years earlier when Panchito joined the Old Christians. We became instant friends and, in the years since, had grown as close as brothers, enjoying a strong camaraderie and a deep simpatía between us, though to many we must have seemed an unlikely pair. Panchito was our winger, a position that requires a combination of speed, power, intelligence, agility, and lightning-quick reactions. If there is a glamour position on a rugby team, winger is it, and Panchito was perfect for the role. Long-legged and broad-shouldered, with blazing speed and the agility of a cheetah, he played the game with such natural grace that even his most brilliant moves seemed effortless. But everything seemed that way for Panchito, especially his other great passion—chasing pretty girls. It didn’t hurt, of course, that he had the blond good looks of a movie star, or that he was rich, a fine athlete, and blessed with the kind of natural charisma most of us can only dream of. I believed, in those days, that the woman did not exist who could resist Panchito once he’d set his sights on her. He had no trouble finding girls; they seemed to find their way to him, and he picked them up with such ease that it sometimes seemed like magic. Once, for example, at the halftime break of a rugby match he said to me, “I have dates for us after the game. Those two there in the first row.”\\n', '\\n', 'I glanced to where the girls were sitting. We had never seen these girls before.\\n', '\\n', '“But how did you manage this?” I asked him. “You never left the field!”\\n', '\\n', 'Panchito shrugged off the question, but I remembered that early in the game he had chased a ball out of bounds near where the girls were sitting. He only had time to smile at them and say a few words, but for Panchito that was enough.\\n', '\\n', 'For me it was different. Like Panchito, I also had a great passion for rugby, but the game was never effortless for me. As a small child I had broken both my legs in a fall from a balcony, and the injuries had left me with a slightly knock-kneed stride that robbed me of the nimbleness required to play rugby’s more glamorous positions. But I was tall and tough and fast, so they made me a forward on the second line. We forwards were good foot soldiers, always butting shoulders in rucks and mauls, rumbling in the scrums and jumping high to claw for the ball in lineouts. Forwards are usually the largest and strongest players on the team, and while I was one of our tallest players, I was thin for my height. When the large bodies started flying, it was only through hard work and determination that I was able to hold my own.\\n', '\\n', 'For me, meeting girls also required great effort, but I never stopped trying. I was just as obsessed with pretty girls as Panchito was, but while I dreamed of being a natural ladies’ man like him, I knew I wasn’t in his class. A little shy, long-limbed and gangly, with thick horn-rimmed glasses and average looks, I had to face the fact that most girls did not find me extraordinary. It wasn’t that I was unpopular—I had my share of dates—but it would be a lie to say that girls were waiting in line for Nando. I had to work hard to catch a girl’s interest, but even when I did, things did not always go as I planned. Once, for example, I managed, after months of trying, to get a date with a girl I really liked. I took her to Las Delicias and she waited in the car while I bought us some ice cream. As I was returning to the car with a cone in each hand, I tripped over something on the sidewalk and lost my balance. Stumbling and weaving wildly toward the parked car, I fought to keep my balance and save the cones, but I didn’t have a chance. I have often wondered how it looked to that girl inside the car: her date lurching toward her in a wide circle across the street, hunched over, his eyes like saucers, his mouth gaping. He staggers toward the car, then seems to dive at her, his cheek smashing flat against the driver’s window, his head bouncing hard off the glass. He slips from view as he slumps to the ground, and all that remains are two dripping blobs of ice cream smeared across the window.\\n', '\\n', 'This was something that would not have happened to Panchito in five lifetimes. He was one of the gifted ones, and everyone envied him for the grace and ease with which he glided through life. But I knew him well, and I understood that life was not as easy for Panchito as it seemed. Beneath all the charm and confidence was a melancholy heart. He could be irritable and distant. He often sank into long dark moods and ill-tempered silences. And there was a devilish restlessness in him that sometimes disturbed me. He was always provoking me with reckless questions: How far would you go, Nando? Would you cheat on a test? Would you rob a bank? Steal a car?\\n', '\\n', 'I always laughed when he talked this way, but I could not ignore the hidden streak of anger and sadness that those questions revealed. I did not judge him for this, because I knew it was all the result of a broken heart. Panchito’s parents had divorced when he was fourteen years old. It was a disaster that had wounded him in ways he could not heal and had left him with much resentment. He had two brothers, and a stepbrother from his father’s previous marriage, but still, there was something missing for him. I believe he had a great hunger for the love and comforts of a family that was happy and whole. In any case, it did not take me long to realize that despite all the natural gifts he had been blessed with, all the things I envied him for, he envied me more for the one thing I had that he could only dream of—my sisters, my grandmother, my mother and father, all of us together in a close and happy home.\\n', '\\n', 'But to me, Panchito was more a brother than a friend, and my family felt the same about him. From the moment they met, my father and mother embraced Panchito as a son, and gave him no other choice but to think of our home as his own. Panchito warmly accepted this invitation, and soon he was a natural part of our world. He spent weekends with us, traveled with us, was a part of all our holidays and family celebrations. He shared, with my father and me, a love for cars and driving, and he loved going with us to auto races. To Susy, he was a second big brother. My mother had a special affection for him. I remember that he would boost himself up on the kitchen counter while she cooked, and they would talk for hours. Often she would tease him about his obsession with girls. “It’s all you think about,” she would say. “When are you going to grow up?”\\n', '\\n', '“When I grow up I’m really going to chase them!” Panchito would reply. “I’m just eighteen, Mrs. Parrado! I’m only getting started.”\\n', '\\n', 'I could see much strength and depth in Panchito, in his loyalty as a friend to me, in the fiercely protective way he watched out for Susy, in the quiet respect he showed my parents, even in the affection with which he treated the servants at his father’s house, who loved him like a son. More than anything, though, I saw in him a man who wanted nothing more in life than the joys of a happy family. I knew his heart. I could see his future. He would meet the woman who would tame him. He would become a good husband and a loving father. I would marry, too. Our families would be like one; our children would grow up together. We never spoke of these things, of course—we were boys in our teens—but I think he knew I understood these things about him, and I think that knowledge strengthened the bonds of our friendship.\\n', '\\n', 'Still, we were young men and the future was just a distant rumor. Ambition and responsibility could wait. Like Panchito, I lived for the moment. There would be time to be serious later. I was young, now was the time to play, and play was definitely the focus of my life. It’s not that I was lazy or self-centered. I thought of myself as a good son, a hard worker, a trustworthy friend, and an honest and decent person. I simply was in no hurry to grow up. Life for me was something that was happening today. I had no strong principles, no defining goals or drives. In those days, if you had asked me the purpose of life, I might have laughed and answered, “To have fun.” It did not occur to me at the time that I could only afford the luxury of this carefree attitude because of the sacrifices of my father, who, from a very young age, had taken his life seriously, planned his goals carefully, and, through years of discipline and self-reliance, had given me the life of privilege, security, and leisure I so casually took for granted.\\n', '\\n', 'My father, Seler Parrado, was born at Estación Gonzales, a dusty outpost in Uruguay’s rich agricultural interior, where vast cattle ranches, or estancias, produced the prized high-quality beef for which Uruguay is known. His own father was a poor peddler who traveled in a horse-drawn cart from one estancia to the next, selling saddles, bridles, boots, and other staples of farm life to the ranch owners themselves, or directly to the rugged gauchos who watched over their herds. It was a difficult life, full of hardship and uncertainty and very few comforts. (Whenever I grumbled about my life, my father would remind me that when he was a boy, his bathroom was a tin shed fifty feet from the house, and that he never saw a roll of toilet paper until he was eleven years old and his family moved to Montevideo.)\\n', '\\n', 'Life in the country allowed little time for rest or play. Each day my father walked the dirt roads back and forth to school, but still he was expected to do his part in his family’s day-to-day struggle to survive. When he was six years old he was already working long hours at his family’s small homestead—minding chickens and ducks, carrying water from the well, gathering firewood, and helping to tend his mother’s vegetable garden. By the time he was eight he had become his father’s assistant, spending long hours in the peddler’s cart as they made their rounds from one ranch to another. His childhood was not carefree, but it showed him the value of hard work, and taught him that nothing would be handed to him, that his life would be only what he made of it.\\n', '\\n', 'When my father was eleven years old his family moved to Montevideo, where his father opened a shop selling the same goods he had peddled to ranchers and farmers in the countryside. Seler became an auto mechanic—he had had a passion for cars and engines since he was a very young boy—but when he was in his mid-twenties my grandfather decided to retire, and my father assumed ownership of the shop. Grandfather had located the shop wisely, near Montevideo’s main railway station. In those days the railroad was the main method of travel from the country to the city, and when ranchers and gauchos came to town to buy supplies, they would step off the trains and walk directly past his door. But by the time Seler took control of the business, things had changed. Buses had replaced trains as the most popular form of transportation, and the bus station was nowhere near the shop. To make things worse, the machine age had reached the Uruguayan countryside. Trucks and tractors were rapidly reducing the farmer’s dependence on horses and mules, and that meant a dramatic drop in demand for the saddles and bridles my father was selling. Sales lagged. It seemed the business would fail. Then Seler tried an experiment—he cleared the farm goods from half of his store’s floor space and devoted that space to basic hardware—nuts and bolts, nails and screws, wire and hinges. Immediately his business began to thrive. Within months he had removed all the country goods and stocked the shelves with hardware. He was still living on the edge of poverty, and sleeping on the floor in a room above the shop, but as sales continued to rise, he knew that he had found his future.\\n', '\\n', 'In 1945 that future became richer when Seler married my mother, Eugenia. She was just as ambitious and independent as he was, and from the very start they were more than a married couple; they were a strong team who shared a bright vision of the future. Like my father, Eugenia had struggled through a difficult youth. In 1939, when she was sixteen years old, she had emigrated from the Ukraine, with her parents and grandmother, to escape the ravages of World War II. Her parents, beekeepers in the Ukraine, settled in the Uruguayan countryside and managed a modest living by raising bees and selling honey. It was a life of hard work and limited opportunity, so, when she was twenty, Eugenia moved to Montevideo, like my father, to seek a better future. She had a clerical job at a large medical laboratory in the city when she married my father, and at first she helped out at the hardware store only in her spare time. In the early days of their marriage, they struggled. Money was so tight that they could not afford furniture, and they began their lives together in an empty apartment. But eventually their hard work paid off, and the hardware store began to turn a profit. By the time my older sister, Graciela, was born in 1947, my mother was able to quit her job at the laboratory and work full-time with my father. I came along in 1949. Susy followed three years later. By then, Eugenia had become a major force in the family business, and her hard work and business savvy had helped to give us a very nice standard of living. But despite the importance of her work, the center of my mother’s life was always her home and family. One day, when I was twelve, she announced that she had found the perfect house for us in Carrasco, one of Montevideo’s finest residential districts. I’ll never forget the look of happiness in her eyes as she described the house: it was a modern, two-story home near the beach, she said, with big windows and large bright rooms, broad lawns and a breezy veranda. The house had a beautiful view of the sea, and this more than anything made my mother love it. I still remember the delight in her voice when she told us, “We can watch the sunset over the water!” Her blue eyes were shining with tears. She had started out with so little, and now she had found her dream house, a place that would be home for a lifetime.\\n', '\\n', 'In Montevideo, a Carrasco address is a mark of prestige, and in this new house we found ourselves living among the upper crust of Uruguayan society. Our neighbors were the nation’s most prominent industrialists, professionals, artists, and politicians. It was a place of status and power, a far cry from the humble world my mother had been born into, and she must have felt a great sense of satisfaction in earning a spot for us there. But she had her feet planted too firmly on the ground to be overly impressed with the neighborhood, or with herself for living there. No matter how successful we might have grown, my mother was not about to abandon the values she was raised on, or ever forget who she was.\\n', '\\n', 'One of the first things my mother did at the house was to help her own mother, Lina, who had lived with us since we were small, dig up a broad patch of lush, green lawn behind the house to make way for a huge vegetable garden. (Lina also raised a small flock of ducks and chickens in the yard, and it must have startled the neighbors when they realized that this blue-eyed, white-haired old woman, who dressed with the simplicity of a European peasant and wore her gardening tools on a leather belt slung on her hips, was running a small working farm in one of the city’s most mannered and manicured neighborhoods.) Under Lina’s loving attention, the garden was soon producing bumper crops of beans, peas, greens, peppers, squash, corn, tomatoes—far too much for us to eat, but my mother would not let any of it go to waste. She spent hours in the kitchen with Lina, canning the surplus produce in mason jars, and storing it all in the pantry so that we could enjoy the fruits of the garden all year round. My mother hated waste and pretense, valued frugality, and never lost her faith in the value of hard work. My father’s business demanded much from her, and she labored long and hard to make it successful, but she was also very active in our lives, always there to send us off to school or welcome us home, never missing my soccer and rugby games, or my sisters’ plays and recitals at school. She was a woman of great, quiet energy, full of encouragement and sage advice, with deep reserves of resourcefulness and good judgment that won her the respect of everyone who knew her and time and again she proved herself to be a woman worthy of their trust.\\n', '\\n', 'Once, for example, as part of a Rotary Club expedition, my mother escorted fifteen young children from Carrasco on a weekend visit to Buenos Aires. Hours after they arrived, a military coup erupted in that city, with the purpose of toppling the Argentine government. Chaos reigned in the streets, and the phone at our house rang off the hook with calls from worried parents wanting to know if their children were safe. Again and again I heard my father reassure them, with total confidence in his voice, saying, “They are with Xenia, they will be all right.” And they were all right, thanks to the efforts of my mother. It was near midnight. Buenos Aires was no longer safe, and my mother knew the last ferry to Montevideo would be leaving in minutes, so she phoned the ferry company and persuaded the jittery pilots to hold the last departure until she arrived with the children. Then she gathered all the kids and their things and led them through the unsettled streets of Buenos Aires to the dark waterfront where the ferry was docked. They all boarded safely, and the ferry set off just after 3:00 a.m., three hours after its scheduled departure. She was a true tower of strength, but her strength was always based in warmth and love and because of her love and protection I grew up believing the world was a safe, familiar place.\\n', '\\n', 'By the time I was in high school my parents owned three large, thriving hardware stores in Uruguay. My father was also importing merchandise from all over the world and wholesaling it to smaller hardware stores across South America. The poor country boy from Estación Gonzales had come a long way in life, and I think this gave him a great sense of satisfaction, but there was never a doubt in my mind that he had done it all for us. He had given us a life of comfort and privilege such as his own father never could have imagined, he had provided for us and protected us in the best way he could, and though he was not an emotionally expressive man, he always showed his love for us subtly, quietly, and in ways that were true to the man he was. When I was small, he would take me to the hardware store, walk me along the shelves, and patiently share with me the secrets of all the shiny merchandise on which our family’s prosperity had been founded: This is a toggle bolt, Nando. You use this to fasten things to a hollow wall. This is a grommet—it reinforces a hole in a canvas tarp so you can thread a rope through it to tie it down. This is an anchor bolt. This is a carriage bolt. These are wing nuts. Here is where we keep the washers—split washers, lock washers, ring washers, and flat washers in every size. We have lag screws, Phillips head screws, slotted screws, machine screws, wood screws, self-tapping screws … there are common nails, finish nails, roofing nails, ring-shank nails, box nails, masonry nails, double-headed nails, more kinds of nails than you can imagine.…\\n', '\\n', 'These were precious moments for me. I loved the gentle seriousness with which he shared his knowledge, and it made me feel close to him to know he thought I was a big enough boy to be trusted with this knowledge. In fact, he wasn’t simply playing, he was teaching me the things I would need to know to help him at the store. But even as a kid I sensed he was teaching me a deeper lesson: that life is orderly, life makes sense. See, Nando, for every job there is the right nut or bolt or hinge or tool. Whether he intended it or not, he was teaching me the great lesson his years of struggle had taught him: Don’t let your head get lost in the clouds. Pay attention to the details, to the nuts-and-bolts realities of things. You can’t build a life on a foundation of dreams and wishes. A good life isn’t plucked from the sky. You build a life up from the ground, with hard work and clear thinking. Things make sense. There are rules and realities that will not change to suit your needs. It’s your job to understand those rules. If you do, and if you work hard and work smart, you will be all right.\\n', '\\n', 'This was the wisdom that had shaped my father’s life, and he passed it along to me in so many ways. Cars were especially important to him, and he handed down this passion to me. He made sure I understood what was under the hood of a car, how each of the systems worked and what routine maintenance was required. He taught me to bleed the brakes, to change the oil, and to keep the engine in tune. A great fan of motorsports and an avid amateur racer, he spent hours teaching me how to drive well—with spirit, yes, but smoothly and safely and always with balance and control. From Seler I learned to double-clutch as I shifted, to save wear and tear on the gearbox. He taught me to listen to and understand the sound of the engine, so that I could accelerate and shift at just the right moments—to be in harmony with the car and coax from it the best performance. He showed me how to find the precise line to follow through a curve, and the correct way to take a curve at speed: you brake hard just before entering the curve, then downshift and accelerate smoothly through the curve. Car enthusiasts call this technique “heel-and-toe” driving because of the footwork involved—as the left foot works the clutch, the right foot pivots on its heel back and forth from the brake pedal to the throttle. It is a style of driving that requires skill and concentration, but my father insisted I learn it because it was the right way to drive. It kept the car balanced and responsive, but, most important, it gave the driver the control he needed to resist the physical forces of weight and momentum which, if ignored, could toss the car off the road or send it fishtailing into disaster. If you are not driving this way, my father told me, your car is simply floating through curves. You are driving blind, relinquishing control to the forces acting against you, and trusting that the road ahead will hold no surprises.\\n', '\\n', 'My respect for my father was endless, as was my appreciation for the life he gave us. I wanted desperately to be like him, but by the time I reached high school I had to face the fact that we were very different men. I did not have his clear vision, or his pragmatic tenacity. We saw the world in starkly different ways. For my father, life was something you created out of hard work and careful planning and sheer force of will. For me, the future was like a story that slowly unfolds, with plots and subplots that twist and turn so that you can never see too far down the road. Life was something to be discovered, something that arrived in its own time. I was not lazy or self-indulgent, but I was something of a dreamer. Most of my friends knew their future—they would work at family businesses or in the same professions their fathers had pursued. It was generally expected that I would do the same. But I could not imagine myself selling hardware all my life. I wanted to travel. I wanted adventure and excitement and creativity. More than anything, I dreamed of becoming a racing car driver like my idol Jackie Stewart, the three-time world champion and maybe the greatest driver of all time. Like Jackie, I knew that driving was about more than horsepower and raw speed, it was about balance and rhythm, there was poetry in the harmony between a driver and his car. I understood that a great driver is more than a daredevil, he is a virtuoso with the guts and the talent to push his cars to limits of its capabilities, defying danger and nudging the laws of physics as he streaks along a razor’s edge between control and disaster. This is the magic of racing. This was the kind of driver I dreamed I would be. When I stared at the poster of Jackie Stewart that hung in my room, I was convinced that he would understand this. I even dreamed he would see in me a kindred soul.\\n', '\\n', 'But these dreams seemed unreachable, and so when it finally came time to choose a college, I decided to enroll in agricultural school, because that was where my closest friends were going. When my father heard the news, he shrugged and smiled. “Nando,” he said, “your friends’ families own farms and ranches. We have hardware stores.” It was not hard for him to talk me into changing my mind. In the end I did what made sense: I entered business school with no serious thought about what school would mean for me or where this decision might lead. I would graduate or I would not. I would run the hardware stores or maybe I wouldn’t. My life would present itself to me when it was ready. In the meantime I spent the summer being Nando: I played rugby, I chased girls with Panchito, I raced my little Renault along the beach roads at Punte del Este, I went to parties and lay in the sun, I lived for the moment, drifting with the tide, waiting for my future to reveal itself, always happy to let others lead the way.\\n', '\\n', '\\n', 'I COULDN’T HELP thinking of my father as the Fairchild flew above the Andes. He had dropped us off at the airport in Montevideo when our trip first began. “Have fun,” he said. “I will pick you up on Monday.” He kissed my mother and my sister, gave me a warm embrace, and then turned to go back to the office, to the orderly, predictable world in which he thrived. While we had fun in Chile he would do what he always did: solve problems, take care of things, work hard, provide. Out of love for his family he had arranged in his mind a future that would keep us all safe, happy, and always together. He had planned well and paid attention to all the details. The Parrados would always be fortunate people. He believed in this so firmly, and our trust for him was so strong, how could we ever doubt him?\\n', '\\n', '“Fasten your seat belts, please,” the steward said. “There is going to be some turbulence ahead.” We were making our way over Planchón Pass. Panchito was still at the window, but we were flying through thick fog and there wasn’t much to see. I was thinking about the girls Panchito and I had met on our last trip to Chile. We had gone with them to the beach resort of Viña del Mar and stayed out so late we almost missed our rugby match the following morning. They had agreed to meet us this year and had offered to pick us up at the airport, but our layover in Mendoza had thrown us off schedule and I hoped we would be able to find them. I was about to mention this to Panchito when the plane suddenly dipped sideways. Then we felt four sharp bumps as the belly of the plane skipped hard over pockets of turbulence. Some of the guys whooped and cheered, as if they were on an amusement park ride.\\n', '\\n', 'I leaned forward and smiled reassuringly at Susy and my mother. My mother looked worried. She had put away the book she was reading, and was holding my sister’s hand. I wanted to tell them not to worry, but before I could speak, the bottom seemed to fall out of the fuselage, and my stomach pitched as the plane dropped for what must have been several hundred feet.\\n', '\\n', 'Now the plane was bouncing and sliding in the turbulence. As the pilots fought to stabilize the Fairchild, I felt Panchito’s elbow in my side.\\n', '\\n', '“Look at this, Nando,” he said. “Should we be so close to the mountains?”\\n', '\\n', 'I bent down to look out the small window. We were flying in thick cloud cover, but through breaks in the clouds I could see a massive wall of rock and snow flashing past. The Fairchild was bobbing roughly, and the swaying tip of the wing was no more than twenty-five feet from the black slopes of the mountain. For a second or so I stared in disbelief, then the plane’s engines screamed as the pilots tried desperately to climb. The fuselage began to vibrate so violently I feared it would shake itself to pieces. My mother and sister turned to look at me over the seats. Our eyes met for an instant, then a powerful tremor rocked the plane. There was a terrible howl of metal grinding. Suddenly I saw open sky above me. Frigid air blasted my face and I noticed, with an odd calmness, that clouds were swirling in the aisle. There was no time to make sense of things, or to pray or feel fear. It all happened in a heartbeat. Then I was torn from my seat with incredible force and hurled forward into the darkness and silence.\\n', '\\n', '\\n', '\\n', '\\n', '\\n', '\n"
     ]
    }
   ],
   "source": [
    "chapters=re.split(pattern,book)\n",
    "chapters=chapters[1:]\n",
    "print(chapters[0])"
   ]
  },
  {
   "cell_type": "code",
   "execution_count": 67,
   "metadata": {},
   "outputs": [
    {
     "name": "stdout",
     "output_type": "stream",
     "text": [
      "{'neg': 0.06, 'neu': 0.782, 'pos': 0.158, 'compound': 1.0}\n",
      "{'neg': 0.118, 'neu': 0.732, 'pos': 0.15, 'compound': 0.999}\n",
      "{'neg': 0.141, 'neu': 0.756, 'pos': 0.103, 'compound': -0.9999}\n",
      "{'neg': 0.137, 'neu': 0.727, 'pos': 0.136, 'compound': -0.9911}\n",
      "{'neg': 0.114, 'neu': 0.749, 'pos': 0.136, 'compound': 0.9997}\n",
      "{'neg': 0.118, 'neu': 0.773, 'pos': 0.109, 'compound': -0.9979}\n",
      "{'neg': 0.132, 'neu': 0.768, 'pos': 0.1, 'compound': -0.9999}\n",
      "{'neg': 0.117, 'neu': 0.792, 'pos': 0.091, 'compound': -0.9998}\n",
      "{'neg': 0.093, 'neu': 0.831, 'pos': 0.076, 'compound': -0.9996}\n",
      "{'neg': 0.084, 'neu': 0.739, 'pos': 0.178, 'compound': 1.0}\n"
     ]
    }
   ],
   "source": [
    "\n",
    "for chapter in chapters:\n",
    "    scores=analyser.polarity_scores(chapter)\n",
    "    print(scores)"
   ]
  }
 ],
 "metadata": {
  "kernelspec": {
   "display_name": "Python 3",
   "language": "python",
   "name": "python3"
  },
  "language_info": {
   "codemirror_mode": {
    "name": "ipython",
    "version": 3
   },
   "file_extension": ".py",
   "mimetype": "text/x-python",
   "name": "python",
   "nbconvert_exporter": "python",
   "pygments_lexer": "ipython3",
   "version": "3.12.4"
  }
 },
 "nbformat": 4,
 "nbformat_minor": 2
}
