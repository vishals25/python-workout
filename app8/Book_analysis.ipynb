{
 "cells": [
  {
   "cell_type": "code",
   "execution_count": 1,
   "metadata": {},
   "outputs": [],
   "source": [
    "with open(\"miracle_in_the_andes.txt\",\"r\", encoding=\"utf-8\") as file:\n",
    "    book=file.readlines()"
   ]
  },
  {
   "cell_type": "code",
   "execution_count": 2,
   "metadata": {},
   "outputs": [],
   "source": [
    "book=str(book)"
   ]
  },
  {
   "cell_type": "markdown",
   "metadata": {},
   "source": [
    "### To find number of chapters"
   ]
  },
  {
   "cell_type": "code",
   "execution_count": 3,
   "metadata": {},
   "outputs": [
    {
     "data": {
      "text/plain": [
       "11"
      ]
     },
     "execution_count": 3,
     "metadata": {},
     "output_type": "execute_result"
    }
   ],
   "source": [
    "book.count(\"Chapter\")"
   ]
  },
  {
   "cell_type": "code",
   "execution_count": 53,
   "metadata": {},
   "outputs": [],
   "source": [
    "import re"
   ]
  },
  {
   "cell_type": "code",
   "execution_count": 5,
   "metadata": {},
   "outputs": [
    {
     "data": {
      "text/plain": [
       "10"
      ]
     },
     "execution_count": 5,
     "metadata": {},
     "output_type": "execute_result"
    }
   ],
   "source": [
    "pattern=re.compile(\"Chapter [0-9]*\")\n",
    "len(re.findall(pattern,book))"
   ]
  },
  {
   "cell_type": "code",
   "execution_count": 6,
   "metadata": {},
   "outputs": [
    {
     "data": {
      "text/plain": [
       "67"
      ]
     },
     "execution_count": 6,
     "metadata": {},
     "output_type": "execute_result"
    }
   ],
   "source": [
    "pattern=re.compile(\"[A-Z]{1}[^.]*[^a-zA-Z]+love[^a-zA-Z]+[^.]*.\")\n",
    "len(re.findall(pattern,book))"
   ]
  },
  {
   "cell_type": "code",
   "execution_count": 27,
   "metadata": {},
   "outputs": [
    {
     "data": {
      "text/plain": [
       "89153"
      ]
     },
     "execution_count": 27,
     "metadata": {},
     "output_type": "execute_result"
    }
   ],
   "source": [
    "pattern=re.compile(\"[a-zA-Z]+\")\n",
    "finds=re.findall(pattern,book.lower())\n",
    "len(finds)"
   ]
  },
  {
   "cell_type": "code",
   "execution_count": 28,
   "metadata": {},
   "outputs": [],
   "source": [
    "d={}\n",
    "\n",
    "for word in finds:\n",
    "    if word in d:\n",
    "        d[word]+=1\n",
    "    else:\n",
    "        d[word]=1"
   ]
  },
  {
   "cell_type": "code",
   "execution_count": 36,
   "metadata": {},
   "outputs": [
    {
     "data": {
      "text/plain": [
       "[(5346, 'the'),\n",
       " (2795, 'and'),\n",
       " (2729, 'i'),\n",
       " (2400, 'to'),\n",
       " (2372, 'n'),\n",
       " (2060, 'of'),\n",
       " (1566, 'a'),\n",
       " (1430, 'was'),\n",
       " (1419, 'in'),\n",
       " (1226, 'we')]"
      ]
     },
     "execution_count": 36,
     "metadata": {},
     "output_type": "execute_result"
    }
   ],
   "source": [
    "d_list=[(value,key) for (key,value) in d.items()]\n",
    "\n",
    "d_list.sort(reverse=True)\n",
    "\n",
    "d_list[:10]"
   ]
  },
  {
   "cell_type": "code",
   "execution_count": 13,
   "metadata": {},
   "outputs": [],
   "source": [
    "import nltk"
   ]
  },
  {
   "cell_type": "code",
   "execution_count": 17,
   "metadata": {},
   "outputs": [],
   "source": [
    "from nltk.corpus import stopwords"
   ]
  },
  {
   "cell_type": "code",
   "execution_count": 18,
   "metadata": {},
   "outputs": [],
   "source": [
    "english_stopwords=stopwords.words(\"english\")"
   ]
  },
  {
   "cell_type": "code",
   "execution_count": null,
   "metadata": {},
   "outputs": [],
   "source": [
    "english_stopwords"
   ]
  },
  {
   "cell_type": "code",
   "execution_count": 33,
   "metadata": {},
   "outputs": [],
   "source": [
    "filtered_words=[]\n",
    "for i,j in d_list :\n",
    "    if j not in english_stopwords and len(j)>1:\n",
    "        filtered_words.append((i,j))"
   ]
  },
  {
   "cell_type": "code",
   "execution_count": 35,
   "metadata": {},
   "outputs": [
    {
     "data": {
      "text/plain": [
       "[(575, 'would'),\n",
       " (519, 'us'),\n",
       " (292, 'said'),\n",
       " (284, 'roberto'),\n",
       " (252, 'could'),\n",
       " (249, 'one'),\n",
       " (227, 'snow'),\n",
       " (183, 'mountain'),\n",
       " (182, 'time'),\n",
       " (165, 'like')]"
      ]
     },
     "execution_count": 35,
     "metadata": {},
     "output_type": "execute_result"
    }
   ],
   "source": [
    "filtered_words[:10]"
   ]
  },
  {
   "cell_type": "code",
   "execution_count": 38,
   "metadata": {},
   "outputs": [],
   "source": [
    "from nltk.sentiment import SentimentIntensityAnalyzer"
   ]
  },
  {
   "cell_type": "code",
   "execution_count": 40,
   "metadata": {},
   "outputs": [],
   "source": [
    "analyser=SentimentIntensityAnalyzer()\n"
   ]
  },
  {
   "cell_type": "code",
   "execution_count": 68,
   "metadata": {},
   "outputs": [
    {
     "name": "stdout",
     "output_type": "stream",
     "text": [
      "{'neg': 0.112, 'neu': 0.766, 'pos': 0.122, 'compound': 1.0}\n"
     ]
    }
   ],
   "source": [
    "scores=analyser.polarity_scores(book)\n",
    "print(scores)"
   ]
  },
  {
   "cell_type": "code",
   "execution_count": 52,
   "metadata": {},
   "outputs": [
    {
     "name": "stdout",
     "output_type": "stream",
     "text": [
      "positive\n"
     ]
    }
   ],
   "source": [
    "if scores['pos']>scores['neg']:\n",
    "    print('positive')\n",
    "else:\n",
    "    print('negative')"
   ]
  },
  {
   "cell_type": "code",
   "execution_count": 56,
   "metadata": {},
   "outputs": [],
   "source": [
    "pattern=re.compile(\"Chapter [0-9]+\")"
   ]
  },
  {
   "cell_type": "code",
   "execution_count": null,
   "metadata": {},
   "outputs": [],
   "source": [
    "chapters=re.split(pattern,book)\n",
    "chapters=chapters[1:]\n",
    "print(chapters[0])"
   ]
  },
  {
   "cell_type": "code",
   "execution_count": 67,
   "metadata": {},
   "outputs": [
    {
     "name": "stdout",
     "output_type": "stream",
     "text": [
      "{'neg': 0.06, 'neu': 0.782, 'pos': 0.158, 'compound': 1.0}\n",
      "{'neg': 0.118, 'neu': 0.732, 'pos': 0.15, 'compound': 0.999}\n",
      "{'neg': 0.141, 'neu': 0.756, 'pos': 0.103, 'compound': -0.9999}\n",
      "{'neg': 0.137, 'neu': 0.727, 'pos': 0.136, 'compound': -0.9911}\n",
      "{'neg': 0.114, 'neu': 0.749, 'pos': 0.136, 'compound': 0.9997}\n",
      "{'neg': 0.118, 'neu': 0.773, 'pos': 0.109, 'compound': -0.9979}\n",
      "{'neg': 0.132, 'neu': 0.768, 'pos': 0.1, 'compound': -0.9999}\n",
      "{'neg': 0.117, 'neu': 0.792, 'pos': 0.091, 'compound': -0.9998}\n",
      "{'neg': 0.093, 'neu': 0.831, 'pos': 0.076, 'compound': -0.9996}\n",
      "{'neg': 0.084, 'neu': 0.739, 'pos': 0.178, 'compound': 1.0}\n"
     ]
    }
   ],
   "source": [
    "\n",
    "for chapter in chapters:\n",
    "    scores=analyser.polarity_scores(chapter)\n",
    "    print(scores)"
   ]
  }
 ],
 "metadata": {
  "kernelspec": {
   "display_name": "Python 3",
   "language": "python",
   "name": "python3"
  },
  "language_info": {
   "codemirror_mode": {
    "name": "ipython",
    "version": 3
   },
   "file_extension": ".py",
   "mimetype": "text/x-python",
   "name": "python",
   "nbconvert_exporter": "python",
   "pygments_lexer": "ipython3",
   "version": "3.12.4"
  }
 },
 "nbformat": 4,
 "nbformat_minor": 2
}
